{
 "cells": [
  {
   "cell_type": "markdown",
   "metadata": {},
   "source": [
    "## [作業重點]\n",
    "清楚了解 L1, L2 的意義與差異為何，並了解 LASSO 與 Ridge 之間的差異與使用情境"
   ]
  },
  {
   "cell_type": "markdown",
   "metadata": {},
   "source": [
    "## 作業"
   ]
  },
  {
   "cell_type": "markdown",
   "metadata": {},
   "source": [
    "請閱讀相關文獻，並回答下列問題\n",
    "\n",
    "[脊回歸 (Ridge Regression)](https://blog.csdn.net/daunxx/article/details/51578787)\n",
    "[Linear, Ridge, Lasso Regression 本質區別](https://www.zhihu.com/question/38121173)\n",
    "\n",
    "1. LASSO 回歸可以被用來作為 Feature selection 的工具，請了解 LASSO 模型為什麼可用來作 Feature selection\n",
    "2. 當自變數 (X) 存在高度共線性時，Ridge Regression 可以處理這樣的問題嗎?\n"
   ]
  },
  {
   "cell_type": "markdown",
   "metadata": {},
   "source": [
    "## 作業1\n",
    "\n",
    "Lasso Reg 加入L1 norm作為懲罰項，使的模型在訓練時，對於模型中較不重要的特徵會將其權重逼近至0，留下較重要特徵的權重，因此透過Lasso reg 我們可以知道那些特徵對於預測目標較為重要，進而作為特徵選取的方式之一。\n",
    "\n",
    "## 作業2\n",
    "\n",
    "當自變數間存在高度共線性時，用最小二乘法求得之權重係數會相當的大，當自變數有些微變動時，就會對模型結果造成巨大影響，表示模型對於資料中的干擾項近乎完全捕捉，造成過度配適的狀況，使時採用Ridge Reg，在模型中加入L2 norm作為懲罰項，可避免模型權重過於複雜，減少overfit的可能性。\n"
   ]
  }
 ],
 "metadata": {
  "kernelspec": {
   "display_name": "Python 3",
   "language": "python",
   "name": "python3"
  },
  "language_info": {
   "codemirror_mode": {
    "name": "ipython",
    "version": 3
   },
   "file_extension": ".py",
   "mimetype": "text/x-python",
   "name": "python",
   "nbconvert_exporter": "python",
   "pygments_lexer": "ipython3",
   "version": "3.7.1"
  }
 },
 "nbformat": 4,
 "nbformat_minor": 2
}
