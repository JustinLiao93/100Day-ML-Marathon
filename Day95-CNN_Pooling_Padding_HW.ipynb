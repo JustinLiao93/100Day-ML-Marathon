{
 "cells": [
  {
   "cell_type": "markdown",
   "metadata": {},
   "source": [
    "# 作業目標:\n",
    "    了解 Padding 的作法\n",
    "    \n",
    "    了解 Pooling 的作法"
   ]
  },
  {
   "cell_type": "markdown",
   "metadata": {},
   "source": [
    "# 作業重點:\n",
    "    (1) 調整Padding 的設定, 看 Pad 後的結果\n",
    "    \n",
    "    (2) 調整Pooling 的設定, 看 Poolin 後的結果"
   ]
  },
  {
   "cell_type": "code",
   "execution_count": 1,
   "metadata": {},
   "outputs": [],
   "source": [
    "import numpy as np\n",
    "import h5py\n",
    "import matplotlib.pyplot as plt\n",
    "\n",
    "# 繪圖結果直接顯示在Jupyter cell 之內\n",
    "%matplotlib inline  \n",
    "plt.rcParams['figure.figsize'] = (5.0, 4.0) #  設定繪圖板的大小\n",
    "plt.rcParams['image.interpolation'] = 'nearest'\n",
    "plt.rcParams['image.cmap'] = 'gray'\n",
    "\n",
    "# autoreload。可以讓我們不退出IPython就動態修改代碼，在執行代碼前IPython會幫我們自動重載改動的模塊\n",
    "%load_ext autoreload\n",
    "%autoreload 2\n",
    "np.random.seed(1)"
   ]
  },
  {
   "cell_type": "code",
   "execution_count": 2,
   "metadata": {},
   "outputs": [],
   "source": [
    "# GRADED FUNCTION: zero_pad\n",
    "def zero_pad(X, pad):\n",
    "    \"\"\"\n",
    "    對image X 做 zero-padding. \n",
    "    參數定義如下:\n",
    "    X -- python numpy array, 呈現維度 (m, n_H, n_W, n_C), 代表一批 m 個圖像\n",
    "         n_H: 圖高, n_W: 圖寬, n_C: color channels 數\n",
    "    pad -- 整數, 加幾圈的 zero padding.\n",
    "    Returns:\n",
    "    X_pad -- image of shape (m, n_H + 2*pad, n_W + 2*pad, n_C) 做完zero-padding 的結果\n",
    "    \"\"\"\n",
    "    \n",
    "    X_pad = np.pad(X, ((0, 0), (pad, pad), (pad, pad), (0, 0)), 'constant', constant_values=(0, 0))\n",
    "  \n",
    "    return X_pad"
   ]
  },
  {
   "cell_type": "code",
   "execution_count": 4,
   "metadata": {},
   "outputs": [
    {
     "name": "stdout",
     "output_type": "stream",
     "text": [
      "x.shape = (4, 12, 12, 2)\n",
      "x_pad.shape = (4, 14, 14, 2)\n",
      "x[1,1] = [[-0.23331192 -1.84858519]\n",
      " [-0.75481636 -1.00438404]\n",
      " [-1.14986304  0.16769339]\n",
      " [-0.31148825  1.59626504]\n",
      " [ 1.48895888 -1.88244883]\n",
      " [ 0.12257922 -1.00116448]\n",
      " [ 0.55619053  0.15811975]\n",
      " [ 0.93051684  0.31083281]\n",
      " [ 0.76120649 -0.2985706 ]\n",
      " [-2.50809328 -1.18508283]\n",
      " [-0.85493206 -0.49014955]\n",
      " [-1.01216245  1.63318137]]\n",
      "x_pad[1,1] = [[ 0.          0.        ]\n",
      " [ 0.04883098  1.86161336]\n",
      " [-0.17067589  1.62767204]\n",
      " [-0.9140007   0.72940069]\n",
      " [ 0.17090543 -0.72925444]\n",
      " [-2.64746453  1.59492471]\n",
      " [-1.15520405 -0.96305405]\n",
      " [ 0.12963001  0.05713914]\n",
      " [ 0.27879611 -0.25407814]\n",
      " [-1.49961583  0.86701262]\n",
      " [-0.90468678  0.22328999]\n",
      " [ 0.57444113  1.18222523]\n",
      " [-0.21790341 -0.30543906]\n",
      " [ 0.          0.        ]]\n"
     ]
    },
    {
     "data": {
      "text/plain": [
       "<matplotlib.image.AxesImage at 0x2a142f37748>"
      ]
     },
     "execution_count": 4,
     "metadata": {},
     "output_type": "execute_result"
    },
    {
     "data": {
      "image/png": "[encoded data removed]",
      "text/plain": [
       "<Figure size 432x288 with 2 Axes>"
      ]
     },
     "metadata": {
      "needs_background": "light"
     },
     "output_type": "display_data"
    }
   ],
   "source": [
    "#作業修改\n",
    "np.random.seed(11)\n",
    "\n",
    "x = np.random.randn(4, 12, 12, 2)\n",
    "x_pad = zero_pad(x, 1)\n",
    "\n",
    "print (\"x.shape =\", x.shape)\n",
    "print (\"x_pad.shape =\", x_pad.shape)\n",
    "print (\"x[1,1] =\", x[1,1])\n",
    "print (\"x_pad[1,1] =\", x_pad[1,1])\n",
    "fig, axarr = plt.subplots(1, 2)\n",
    "axarr[0].set_title('x')\n",
    "axarr[0].imshow(x[0,:,:,0])\n",
    "axarr[1].set_title('x_pad')\n",
    "axarr[1].imshow(x_pad[0,:,:,0])"
   ]
  },
  {
   "cell_type": "code",
   "execution_count": 7,
   "metadata": {},
   "outputs": [],
   "source": [
    "# GRADED FUNCTION: pool_forward\n",
    "def pool_forward(A_prev, hparameters, mode = \"max\"):\n",
    "    \"\"\"\n",
    "    設計一個前行網路的池化層\n",
    "    參數定義如下:\n",
    "    A_prev -- 輸入的numpy 陣列, 維度 (m, n_H_prev, n_W_prev, n_C_prev)\n",
    "    hparameter 超參數 --  \"f\" and \"stride\" 所形成的python 字典\n",
    "    mode -- 池化的模式: \"max\" or \"average\"\n",
    "    \n",
    "    返回:\n",
    "        A -- 輸出的池化層, 維度為 (m, n_H, n_W, n_C) 的 numpy 陣列\n",
    "        cache -- 可以應用在 backward pass pooling layer 資料, 包含 input and hparameter\n",
    "    \"\"\"\n",
    "\n",
    "    # 檢索尺寸 from the input shape\n",
    "    (m, n_H_prev, n_W_prev, n_C_prev) = A_prev.shape\n",
    " \n",
    "    # 檢索超參數 from \"hparameters\"\n",
    "    f = hparameters[\"f\"]\n",
    "    stride = hparameters[\"stride\"]\n",
    "\n",
    "    # 定義輸出的dimensions\n",
    "    n_H = int(1 + (n_H_prev - f) / stride)\n",
    "    n_W = int(1 + (n_W_prev - f) / stride)\n",
    "    n_C = n_C_prev\n",
    "\n",
    "    # 初始化輸出的 matrix A\n",
    "    A = np.zeros((m, n_H, n_W, n_C))\n",
    "\n",
    "    ### 程式起始位置  ###\n",
    "    for i in range(m): # 訓練樣本的for 迴圈\n",
    "        for h in range(n_H): # 輸出樣本的for 迴圈, 針對vertical axis\n",
    "            for w in range(n_W): #  輸出樣本的for 迴圈, 針對 horizontal axis\n",
    "                for c in range (n_C): #  輸出樣本的for 迴圈, 針對channels\n",
    "\n",
    "                     # 找出特徵圖的寬度跟高度四個點\n",
    "                    vert_start = h * stride\n",
    "                    vert_end = h * stride+ f\n",
    "                    horiz_start = w * stride\n",
    "                    horiz_end = w * stride + f\n",
    "\n",
    "                    # 定義第i個訓練示例\n",
    "                    a_prev_slice = A_prev[i, vert_start:vert_end, horiz_start:horiz_end,c]\n",
    "\n",
    "                    # 計算輸入data 的池化結果. 使用 if statment 去做分類\n",
    "                    if mode == \"max\":\n",
    "                        A[i, h, w, c] = np.max(a_prev_slice)\n",
    "                    elif mode == \"average\":\n",
    "                        A[i, h, w, c] = np.mean(a_prev_slice)\n",
    "\n",
    "                        ### 程式結束  ###\n",
    "    \n",
    "    # 儲存輸入的特徵圖跟所設定的超參數, 可以用在 pool_backward()\n",
    "    cache = (A_prev, hparameters)\n",
    "    \n",
    "    # 確認輸出的資料維度\n",
    "    assert(A.shape == (m, n_H, n_W, n_C))\n",
    "    return A, cache"
   ]
  },
  {
   "cell_type": "code",
   "execution_count": 12,
   "metadata": {},
   "outputs": [
    {
     "name": "stdout",
     "output_type": "stream",
     "text": [
      "mode = max\n",
      "A = [[[[0.98667333 0.847979   0.94180665 0.85079509 0.72996447 0.9491024 ]\n",
      "   [0.98667333 0.85715425 0.94180665 0.85079509 0.79010112 0.90540032]\n",
      "   [0.89390417 0.85715425 0.75897959 0.81827536 0.79010112 0.90540032]\n",
      "   [0.79262139 0.56181871 0.75897959 0.81827536 0.34462449 0.70116428]]\n",
      "\n",
      "  [[0.98667333 0.93290463 0.71784918 0.95744405 0.80656679 0.9491024 ]\n",
      "   [0.98667333 0.81096657 0.64221486 0.95744405 0.79010112 0.90540032]\n",
      "   [0.94983331 0.75964947 0.61601839 0.62283401 0.79010112 0.90540032]\n",
      "   [0.79262139 0.75964947 0.79387241 0.83303741 0.73995152 0.87529458]]\n",
      "\n",
      "  [[0.73466772 0.93290463 0.65869235 0.95744405 0.80656679 0.7644911 ]\n",
      "   [0.94983331 0.81096657 0.65869235 0.95744405 0.46154029 0.73825262]\n",
      "   [0.94983331 0.75964947 0.97396826 0.62522484 0.73995152 0.65670881]\n",
      "   [0.62699782 0.82565223 0.97396826 0.91112166 0.73995152 0.87529458]]\n",
      "\n",
      "  [[0.64805644 0.92245024 0.9711752  0.93241372 0.84068543 0.6487222 ]\n",
      "   [0.84493853 0.56828967 0.9711752  0.93241372 0.93076592 0.2383461 ]\n",
      "   [0.84493853 0.95996265 0.97396826 0.93214862 0.93076592 0.65670881]\n",
      "   [0.71296292 0.95996265 0.97396826 0.93214862 0.53885029 0.92960511]]]]\n",
      "\n",
      "mode = average\n",
      "A = [[[[0.39535008 0.42321997 0.59068726 0.74355721 0.44155958 0.4769703 ]\n",
      "   [0.49084528 0.5004869  0.35428764 0.64245713 0.40105891 0.37387233]\n",
      "   [0.51822892 0.47406324 0.4026168  0.52558915 0.33100663 0.44429433]\n",
      "   [0.48836882 0.21664295 0.52711422 0.63746259 0.21726687 0.48400032]]\n",
      "\n",
      "  [[0.69390807 0.73247606 0.50006679 0.67859545 0.43912787 0.70411544]\n",
      "   [0.66478604 0.45068812 0.39102603 0.60245341 0.41230057 0.52081764]\n",
      "   [0.45795521 0.49380001 0.43769804 0.41006285 0.54010256 0.45882667]\n",
      "   [0.47810193 0.38834615 0.47084573 0.64697576 0.48573345 0.6078408 ]]\n",
      "\n",
      "  [[0.58855229 0.75205676 0.47356343 0.66476819 0.44817783 0.53967658]\n",
      "   [0.6915642  0.50394627 0.58768997 0.49752184 0.35364527 0.2792382 ]\n",
      "   [0.53945713 0.52636983 0.61914502 0.4262859  0.44294363 0.30901726]\n",
      "   [0.33941803 0.61590788 0.68857345 0.74805448 0.53974293 0.55917787]]\n",
      "\n",
      "  [[0.4834264  0.68436139 0.63669922 0.69237937 0.49761297 0.35793326]\n",
      "   [0.54202526 0.44688026 0.74497093 0.4782665  0.59765443 0.16727314]\n",
      "   [0.54139093 0.58446389 0.72986778 0.4906168  0.50997473 0.30219664]\n",
      "   [0.52601621 0.75412235 0.65215552 0.65124491 0.34214424 0.52509886]]]]\n"
     ]
    }
   ],
   "source": [
    "np.random.seed(11)\n",
    "A_prev = np.random.rand(1,5,5,6)\n",
    "hparameters = {\"stride\" : 1, \"f\": 2}\n",
    "\n",
    "A, cache = pool_forward(A_prev, hparameters)\n",
    "print(\"mode = max\")\n",
    "print(\"A =\", A)\n",
    "print()\n",
    "A, cache = pool_forward(A_prev, hparameters, mode = \"average\")\n",
    "print(\"mode = average\")\n",
    "print(\"A =\", A)"
   ]
  },
  {
   "cell_type": "code",
   "execution_count": null,
   "metadata": {},
   "outputs": [],
   "source": []
  }
 ],
 "metadata": {
  "kernelspec": {
   "display_name": "Python 3",
   "language": "python",
   "name": "python3"
  },
  "language_info": {
   "codemirror_mode": {
    "name": "ipython",
    "version": 3
   },
   "file_extension": ".py",
   "mimetype": "text/x-python",
   "name": "python",
   "nbconvert_exporter": "python",
   "pygments_lexer": "ipython3",
   "version": "3.7.1"
  }
 },
 "nbformat": 4,
 "nbformat_minor": 2
}
