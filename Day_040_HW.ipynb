{
 "cells": [
  {
   "cell_type": "markdown",
   "metadata": {},
   "source": [
    "## [作業重點]\n",
    "使用 Sklearn 中的 Lasso, Ridge 模型，來訓練各種資料集，務必了解送進去模型訓練的**資料型態**為何，也請了解模型中各項參數的意義。\n",
    "\n",
    "機器學習的模型非常多種，但要訓練的資料多半有固定的格式，確保你了解訓練資料的格式為何，這樣在應用新模型時，就能夠最快的上手開始訓練！"
   ]
  },
  {
   "cell_type": "markdown",
   "metadata": {},
   "source": [
    "## 練習時間\n",
    "試著使用 sklearn datasets 的其他資料集 (boston, ...)，來訓練自己的線性迴歸模型，並加上適當的正則化來觀察訓練情形。"
   ]
  },
  {
   "cell_type": "code",
   "execution_count": 2,
   "metadata": {},
   "outputs": [],
   "source": [
    "import numpy as np\n",
    "import matplotlib.pyplot as plt\n",
    "from sklearn import datasets, linear_model\n",
    "from sklearn.model_selection import train_test_split\n",
    "from sklearn.metrics import mean_squared_error, r2_score"
   ]
  },
  {
   "cell_type": "code",
   "execution_count": 15,
   "metadata": {},
   "outputs": [
    {
     "name": "stdout",
     "output_type": "stream",
     "text": [
      "[-9.62677805e-02  4.58403839e-02  1.68589207e-02  3.59545656e+00\n",
      " -1.90173156e+01  4.24296126e+00  1.31751330e-02 -1.38036743e+00\n",
      "  3.03024557e-01 -1.15420503e-02 -8.87520457e-01  1.08290708e-02\n",
      " -5.25212073e-01]\n",
      "Mean squared error: 26.94\n"
     ]
    }
   ],
   "source": [
    "boston = datasets.load_boston()\n",
    "#X = wine.data[:, np.newaxis, :]\n",
    "x_train, x_test, y_train, y_test = train_test_split(boston.data, boston.target, test_size=0.2, random_state=11)\n",
    "greg = linear_model.LinearRegression()\n",
    "greg.fit(x_train, y_train)\n",
    "y_pred = greg.predict(x_test)\n",
    "print(greg.coef_)\n",
    "print(\"Mean squared error: %.2f\" % mean_squared_error(y_test, y_pred))"
   ]
  },
  {
   "cell_type": "code",
   "execution_count": 29,
   "metadata": {},
   "outputs": [
    {
     "name": "stdout",
     "output_type": "stream",
     "text": [
      "alpha =  0.0\n",
      "Mean squared error: 26.94\n",
      "alpha =  0.1\n",
      "Mean squared error: 26.27\n",
      "alpha =  0.2\n",
      "Mean squared error: 25.82\n",
      "alpha =  0.30000000000000004\n",
      "Mean squared error: 25.78\n",
      "alpha =  0.4\n",
      "Mean squared error: 25.86\n",
      "alpha =  0.5\n",
      "Mean squared error: 26.04\n",
      "alpha =  0.6000000000000001\n",
      "Mean squared error: 26.34\n",
      "alpha =  0.7000000000000001\n",
      "Mean squared error: 26.74\n",
      "alpha =  0.8\n",
      "Mean squared error: 27.25\n",
      "alpha =  0.9\n",
      "Mean squared error: 27.87\n",
      "alpha =  1.0\n",
      "Mean squared error: 28.60\n"
     ]
    },
    {
     "name": "stderr",
     "output_type": "stream",
     "text": [
      "C:\\ProgramData\\Anaconda3\\lib\\site-packages\\ipykernel_launcher.py:5: UserWarning: With alpha=0, this algorithm does not converge well. You are advised to use the LinearRegression estimator\n",
      "  \"\"\"\n",
      "C:\\ProgramData\\Anaconda3\\lib\\site-packages\\sklearn\\linear_model\\coordinate_descent.py:478: UserWarning: Coordinate descent with no regularization may lead to unexpected results and is discouraged.\n",
      "  positive)\n",
      "C:\\ProgramData\\Anaconda3\\lib\\site-packages\\sklearn\\linear_model\\coordinate_descent.py:492: ConvergenceWarning: Objective did not converge. You might want to increase the number of iterations. Fitting data with very small alpha may cause precision problems.\n",
      "  ConvergenceWarning)\n"
     ]
    }
   ],
   "source": [
    "alpha_space = np.linspace(0, 1, 11)\n",
    "\n",
    "for alpha in alpha_space:\n",
    "    lasso = linear_model.Lasso(alpha = alpha)\n",
    "    lasso.fit(x_train, y_train)\n",
    "    y_pred = lasso.predict(x_test)\n",
    "    #print(lasso.coef_)\n",
    "    print('alpha = ', alpha)\n",
    "    print(\"Mean squared error: %.2f\" % mean_squared_error(y_test, y_pred))"
   ]
  },
  {
   "cell_type": "code",
   "execution_count": 30,
   "metadata": {
    "scrolled": true
   },
   "outputs": [
    {
     "name": "stdout",
     "output_type": "stream",
     "text": [
      "alpha =  0.0\n",
      "Mean squared error: 26.94\n",
      "alpha =  0.1\n",
      "Mean squared error: 26.88\n",
      "alpha =  0.2\n",
      "Mean squared error: 26.84\n",
      "alpha =  0.30000000000000004\n",
      "Mean squared error: 26.81\n",
      "alpha =  0.4\n",
      "Mean squared error: 26.78\n",
      "alpha =  0.5\n",
      "Mean squared error: 26.76\n",
      "alpha =  0.6000000000000001\n",
      "Mean squared error: 26.74\n",
      "alpha =  0.7000000000000001\n",
      "Mean squared error: 26.73\n",
      "alpha =  0.8\n",
      "Mean squared error: 26.72\n",
      "alpha =  0.9\n",
      "Mean squared error: 26.71\n",
      "alpha =  1.0\n",
      "Mean squared error: 26.70\n"
     ]
    }
   ],
   "source": [
    "for alpha in alpha_space:\n",
    "    ridge = linear_model.Ridge(alpha=alpha)\n",
    "    ridge.fit(x_train, y_train)\n",
    "    y_pred = ridge.predict(x_test)\n",
    "    #print(ridge.coef_)\n",
    "    print('alpha = ', alpha)\n",
    "    print(\"Mean squared error: %.2f\" % mean_squared_error(y_test, y_pred))"
   ]
  },
  {
   "cell_type": "code",
   "execution_count": 31,
   "metadata": {},
   "outputs": [
    {
     "name": "stderr",
     "output_type": "stream",
     "text": [
      "Downloading Cal. housing from https://ndownloader.figshare.com/files/5976036 to C:\\Users\\jarla\\scikit_learn_data\n"
     ]
    }
   ],
   "source": [
    "house = datasets.fetch_california_housing()"
   ]
  },
  {
   "cell_type": "code",
   "execution_count": 32,
   "metadata": {},
   "outputs": [
    {
     "name": "stdout",
     "output_type": "stream",
     "text": [
      "[ 4.33481147e-01  9.13203774e-03 -1.00206297e-01  6.11611814e-01\n",
      " -5.80927065e-06 -3.41460825e-03 -4.26281098e-01 -4.41029824e-01]\n",
      "Mean squared error: 0.53\n"
     ]
    }
   ],
   "source": [
    "x_train, x_test, y_train, y_test = train_test_split(house.data, house.target, test_size=0.2, random_state=11)\n",
    "greg = linear_model.LinearRegression()\n",
    "greg.fit(x_train, y_train)\n",
    "y_pred = greg.predict(x_test)\n",
    "print(greg.coef_)\n",
    "print(\"Mean squared error: %.2f\" % mean_squared_error(y_test, y_pred))"
   ]
  },
  {
   "cell_type": "code",
   "execution_count": 33,
   "metadata": {
    "scrolled": true
   },
   "outputs": [
    {
     "name": "stdout",
     "output_type": "stream",
     "text": [
      "alpha =  0.0\n",
      "Mean squared error: 0.53\n",
      "alpha =  0.1\n",
      "Mean squared error: 0.61\n",
      "alpha =  0.2\n",
      "Mean squared error: 0.67\n",
      "alpha =  0.30000000000000004\n",
      "Mean squared error: 0.69\n",
      "alpha =  0.4\n",
      "Mean squared error: 0.71\n",
      "alpha =  0.5\n",
      "Mean squared error: 0.74\n",
      "alpha =  0.6000000000000001\n",
      "Mean squared error: 0.77\n",
      "alpha =  0.7000000000000001\n",
      "Mean squared error: 0.81\n",
      "alpha =  0.8\n",
      "Mean squared error: 0.86\n",
      "alpha =  0.9\n",
      "Mean squared error: 0.91\n",
      "alpha =  1.0\n",
      "Mean squared error: 0.97\n"
     ]
    },
    {
     "name": "stderr",
     "output_type": "stream",
     "text": [
      "C:\\ProgramData\\Anaconda3\\lib\\site-packages\\ipykernel_launcher.py:5: UserWarning: With alpha=0, this algorithm does not converge well. You are advised to use the LinearRegression estimator\n",
      "  \"\"\"\n",
      "C:\\ProgramData\\Anaconda3\\lib\\site-packages\\sklearn\\linear_model\\coordinate_descent.py:478: UserWarning: Coordinate descent with no regularization may lead to unexpected results and is discouraged.\n",
      "  positive)\n",
      "C:\\ProgramData\\Anaconda3\\lib\\site-packages\\sklearn\\linear_model\\coordinate_descent.py:492: ConvergenceWarning: Objective did not converge. You might want to increase the number of iterations. Fitting data with very small alpha may cause precision problems.\n",
      "  ConvergenceWarning)\n"
     ]
    }
   ],
   "source": [
    "alpha_space = np.linspace(0, 1, 11)\n",
    "\n",
    "for alpha in alpha_space:\n",
    "    lasso = linear_model.Lasso(alpha = alpha)\n",
    "    lasso.fit(x_train, y_train)\n",
    "    y_pred = lasso.predict(x_test)\n",
    "    #print(lasso.coef_)\n",
    "    print('alpha = ', alpha)\n",
    "    print(\"Mean squared error: %.2f\" % mean_squared_error(y_test, y_pred))"
   ]
  },
  {
   "cell_type": "code",
   "execution_count": 34,
   "metadata": {},
   "outputs": [
    {
     "name": "stdout",
     "output_type": "stream",
     "text": [
      "alpha =  0.0\n",
      "Mean squared error: 0.53\n",
      "alpha =  0.1\n",
      "Mean squared error: 0.53\n",
      "alpha =  0.2\n",
      "Mean squared error: 0.53\n",
      "alpha =  0.30000000000000004\n",
      "Mean squared error: 0.53\n",
      "alpha =  0.4\n",
      "Mean squared error: 0.53\n",
      "alpha =  0.5\n",
      "Mean squared error: 0.53\n",
      "alpha =  0.6000000000000001\n",
      "Mean squared error: 0.53\n",
      "alpha =  0.7000000000000001\n",
      "Mean squared error: 0.53\n",
      "alpha =  0.8\n",
      "Mean squared error: 0.53\n",
      "alpha =  0.9\n",
      "Mean squared error: 0.53\n",
      "alpha =  1.0\n",
      "Mean squared error: 0.53\n"
     ]
    }
   ],
   "source": [
    "for alpha in alpha_space:\n",
    "    ridge = linear_model.Ridge(alpha=alpha)\n",
    "    ridge.fit(x_train, y_train)\n",
    "    y_pred = ridge.predict(x_test)\n",
    "    #print(ridge.coef_)\n",
    "    print('alpha = ', alpha)\n",
    "    print(\"Mean squared error: %.2f\" % mean_squared_error(y_test, y_pred))"
   ]
  }
 ],
 "metadata": {
  "kernelspec": {
   "display_name": "Python 3",
   "language": "python",
   "name": "python3"
  },
  "language_info": {
   "codemirror_mode": {
    "name": "ipython",
    "version": 3
   },
   "file_extension": ".py",
   "mimetype": "text/x-python",
   "name": "python",
   "nbconvert_exporter": "python",
   "pygments_lexer": "ipython3",
   "version": "3.7.1"
  }
 },
 "nbformat": 4,
 "nbformat_minor": 2
}
