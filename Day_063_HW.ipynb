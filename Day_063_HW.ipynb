{
 "cells": [
  {
   "cell_type": "markdown",
   "metadata": {},
   "source": [
    "# 作業\n",
    "* 在精簡深度學習的方式上 : 卷積類神經 (CNN) 採用像素遠近，而遞歸類神經 (RNN) 採用著則是時間遠近\n",
    "* 那麼，既然有著類似的設計精神，兩者是否有可能互換應用呢?"
   ]
  },
  {
   "cell_type": "markdown",
   "metadata": {
    "collapsed": true
   },
   "source": [
    "若是在足夠資料量的情況下，CNN與RNN的使用情境是可以互換的，CNN也可以做時間序列相關的預測任務；RNN也可以做視覺影像辨識的任務，\n",
    "只是在輸入資料方面需要做一些修改，甚至有學者提出CNN結合RNN的神經網絡架構，但我認為重點不在於用什麼樣的神經網絡架構，\n",
    "而是針對問題使用適合且成本低的分析方式，殺雞焉用牛刀，如果可以用簡單的淺層神經網絡就達成很好的成效，何必使用100多層的網路整自己也整電腦呢"
   ]
  }
 ],
 "metadata": {
  "kernelspec": {
   "display_name": "Python 3",
   "language": "python",
   "name": "python3"
  },
  "language_info": {
   "codemirror_mode": {
    "name": "ipython",
    "version": 3
   },
   "file_extension": ".py",
   "mimetype": "text/x-python",
   "name": "python",
   "nbconvert_exporter": "python",
   "pygments_lexer": "ipython3",
   "version": "3.7.1"
  }
 },
 "nbformat": 4,
 "nbformat_minor": 2
}
