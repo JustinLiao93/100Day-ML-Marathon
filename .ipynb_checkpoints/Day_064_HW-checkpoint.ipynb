{
 "cells": [
  {
   "cell_type": "markdown",
   "metadata": {},
   "source": [
    "# 作業\n",
    "* 選擇迴歸資料集(右) - 交錯六群，在其他參數保持預設值的情況下，只允許調整隱藏層層數與神經元數量，且遵守下列限制   \n",
    "> * 隱藏層神經元總數最多 8 個 (即 : 可以單層 8 個，或兩層 5 個與 3 個)   \n",
    "> * 遞迴次數只允許跑到500次  \n",
    "* 在上述限制下，挑戰看看測試誤差 (Test Loss) 最低能到多少? 請回答你的神經元參數與 Test Loss 數"
   ]
  },
  {
   "cell_type": "markdown",
   "metadata": {
    "collapsed": true
   },
   "source": []
  },
  {
   "cell_type": "markdown",
   "metadata": {},
   "source": [
    "![title](HW_64.png)"
   ]
  },
  {
   "cell_type": "markdown",
   "metadata": {},
   "source": [
    "經過多次試誤之後，發現使用單層且具八個神經元的隱藏層在該問題下的測試誤差最小\n",
    "在500 epochs內，最低訓練與測試誤差各為0.006與0.005\n",
    "表示表明既沒有overfitting，在測試樣本上的預測效果也很好"
   ]
  }
 ],
 "metadata": {
  "kernelspec": {
   "display_name": "Python 3",
   "language": "python",
   "name": "python3"
  },
  "language_info": {
   "codemirror_mode": {
    "name": "ipython",
    "version": 3
   },
   "file_extension": ".py",
   "mimetype": "text/x-python",
   "name": "python",
   "nbconvert_exporter": "python",
   "pygments_lexer": "ipython3",
   "version": "3.6.4"
  }
 },
 "nbformat": 4,
 "nbformat_minor": 2
}
