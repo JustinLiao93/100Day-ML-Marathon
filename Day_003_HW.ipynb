{
 "cells": [
  {
   "cell_type": "markdown",
   "metadata": {},
   "source": [
    "## [作業目標]\n",
    "持續接觸有關機器學習的相關專案與最新技術"
   ]
  },
  {
   "cell_type": "markdown",
   "metadata": {},
   "source": [
    "## [作業重點]\n",
    "透過觀察頂尖公司的機器學習文章，來了解各公司是怎麼應用機器學習在實際的專案上"
   ]
  },
  {
   "cell_type": "markdown",
   "metadata": {},
   "source": [
    "## [作業]\n",
    "今天的作業希望大家能夠看看全球機器學習巨頭們在做的機器學習專案。以 google 為例，下圖是 Google 內部專案使用機器學習的數量，隨著時間進展，現在早已超過 2000 個專案在使用機器學習。"
   ]
  },
  {
   "cell_type": "markdown",
   "metadata": {},
   "source": [
    "![image](https://cdn-images-1.medium.com/max/800/1*U_L8qI8RmYS-MOBrYvXhSA.png)"
   ]
  },
  {
   "cell_type": "markdown",
   "metadata": {},
   "source": [
    "底下幫同學整理幾間知名企業的 blog 或機器學習網站 (自行搜尋也可)，這些網站都會整理最新的機器學習專案或者是技術文章，請挑選一篇文章閱讀並試著回答\n",
    "1. 專案的目標？ (要解決什麼問題）\n",
    "2. 使用的技術是？ (只需知道名稱即可，例如：使用 CNN 卷積神經網路做影像分類)\n",
    "3. 資料來源？ "
   ]
  },
  {
   "cell_type": "markdown",
   "metadata": {},
   "source": [
    "- [Google AI blog](https://ai.googleblog.com/)\n",
    "- [Facebook Research blog](https://research.fb.com/blog/)\n",
    "- [Apple machine learning journal](https://machinelearning.apple.com/)\n",
    "- [機器之心](https://www.jiqizhixin.com/)\n",
    "- [雷鋒網](http://www.leiphone.com/category/ai)"
   ]
  },
  {
   "cell_type": "code",
   "execution_count": null,
   "metadata": {},
   "outputs": [],
   "source": [
    "\"https://www.jiqizhixin.com/articles/2019-08-29-6\"\n",
    "我從機器之心，選了上列網址文章，主題是\"雀神，微軟亞研推出超级麻將AI Suphx，還上了專業十段水平\"。\n",
    "1. 專案的目標？ (要解決什麼問題）\n",
    "該專案目的是希望透過機器學習，建立一個麻將機器人AI Suphx，透過一局局麻將的牌譜資料，訓練AI Suphx在僅能看到自己手牌的情況下，\n",
    "能夠透過對手出牌的順序來預測對手的手牌以及可能聽什麼牌，並累積8局遊戲結果，來過累積獎勵來優化AI Suphx的出牌策略。\n",
    "           \n",
    "2. 使用的技術是？ (只需知道名稱即可，例如：使用 CNN 卷積神經網路做影像分類)\n",
    "AI Suphx其背後最基本的架構是強化學習(RL)，state(手牌+對手出牌、碰、吃、胡...等)、Action(出什麼牌、是否要吃、碰、胡...)、Reward(8局累積獎勵)\n",
    "，但由於麻將規則及牌的多樣性，造成可能之狀態、動作對應關係維度十分龐大，因此搭配深度學習(DL)來解決維度災難，透過神經網絡來近似目標函數，\n",
    "完成模型策略訓練。另外，因應麻將的特性，AI Suphx又加入了三大要素來提升模型效能，分別是：透過先知教練，事先將隱藏信息(如對手的牌)加入訓練過程，\n",
    "讓模型預先訓練好對隱藏信息的掌握、全牌預測，不是以一局局的結果視為結束，而是透過數學函式將八局結果做累計，讓模型得到策略為全盤最優解、\n",
    "自適應決策，透過既有牌面以及自己的手牌，在每一局下限縮可能的狀態局動作空間，提升空間探索效能。\n",
    "           \n",
    "3. 資料來源？\n",
    "當中未提到資料來源，但我想其資料主要是透過大量蒐集傳統四人對弈麻將的牌譜，並在其中參雜不同段位的對手，藉此增加牌譜的多樣性，並以其當作資料來源\n",
    "，訓練AI Suphx成為麻將高手。"
   ]
  }
 ],
 "metadata": {
  "kernelspec": {
   "display_name": "Python 3",
   "language": "python",
   "name": "python3"
  },
  "language_info": {
   "codemirror_mode": {
    "name": "ipython",
    "version": 3
   },
   "file_extension": ".py",
   "mimetype": "text/x-python",
   "name": "python",
   "nbconvert_exporter": "python",
   "pygments_lexer": "ipython3",
   "version": "3.7.1"
  }
 },
 "nbformat": 4,
 "nbformat_minor": 2
}
