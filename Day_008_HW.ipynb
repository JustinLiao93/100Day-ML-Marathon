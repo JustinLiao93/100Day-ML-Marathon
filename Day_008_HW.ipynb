{
 "cells": [
  {
   "cell_type": "markdown",
   "metadata": {},
   "source": [
    "# [作業目標]\n",
    "- 對資料做更多處理 : 顯示特定欄位的統計值與直方圖"
   ]
  },
  {
   "cell_type": "markdown",
   "metadata": {},
   "source": [
    "# [作業重點]\n",
    "- 試著顯示特定欄位的基礎統計數值 (In[4], Out[4], Hint : describe())\n",
    "- 試著顯示特定欄位的直方圖 (In[5], Out[5], Hint : .hist())"
   ]
  },
  {
   "cell_type": "code",
   "execution_count": 1,
   "metadata": {},
   "outputs": [],
   "source": [
    "# Import 需要的套件\n",
    "import os\n",
    "import numpy as np\n",
    "import pandas as pd\n",
    "\n",
    "# 設定 data_path\n",
    "dir_data = './data/'"
   ]
  },
  {
   "cell_type": "code",
   "execution_count": 2,
   "metadata": {},
   "outputs": [],
   "source": [
    "f_app_train = os.path.join(dir_data, 'application_train.csv')\n",
    "app_train = pd.read_csv(f_app_train)"
   ]
  },
  {
   "cell_type": "code",
   "execution_count": 3,
   "metadata": {},
   "outputs": [],
   "source": [
    "import matplotlib.pyplot as plt\n",
    "%matplotlib inline"
   ]
  },
  {
   "cell_type": "markdown",
   "metadata": {},
   "source": [
    "## 練習時間"
   ]
  },
  {
   "cell_type": "markdown",
   "metadata": {},
   "source": [
    "觀察有興趣的欄位的資料分佈，並嘗試找出有趣的訊息\n",
    "#### Eg\n",
    "- 計算任意欄位的平均數及標準差\n",
    "- 畫出任意欄位的[直方圖](https://zh.wikipedia.org/zh-tw/%E7%9B%B4%E6%96%B9%E5%9B%BE)\n",
    "\n",
    "### Hints:\n",
    "- [Descriptive Statistics For pandas Dataframe](https://chrisalbon.com/python/data_wrangling/pandas_dataframe_descriptive_stats/)\n",
    "- [pandas 中的繪圖函數](https://amaozhao.gitbooks.io/pandas-notebook/content/pandas%E4%B8%AD%E7%9A%84%E7%BB%98%E5%9B%BE%E5%87%BD%E6%95%B0.html)\n"
   ]
  },
  {
   "cell_type": "code",
   "execution_count": 25,
   "metadata": {},
   "outputs": [
    {
     "name": "stdout",
     "output_type": "stream",
     "text": [
      "Mean :  599025.9997057016\n",
      "Mean :  402490.776995946\n"
     ]
    },
    {
     "data": {
      "text/plain": [
       "(array([4.0610e+03, 3.2423e+04, 4.5516e+04, 4.5720e+04, 5.1196e+04,\n",
       "        3.9105e+04, 2.7906e+04, 2.0631e+04, 1.4719e+04, 1.0119e+04,\n",
       "        6.5150e+03, 3.5130e+03, 2.1570e+03, 1.6120e+03, 6.1400e+02,\n",
       "        4.3000e+02, 2.3800e+02, 2.8600e+02, 2.2900e+02, 8.5000e+01,\n",
       "        7.3000e+01, 1.1900e+02, 2.8000e+01, 4.0000e+01, 4.2000e+01,\n",
       "        3.0000e+01, 1.1000e+01, 0.0000e+00, 1.3000e+01, 7.0000e+00,\n",
       "        2.0000e+00, 1.0000e+00, 3.0000e+00, 1.1000e+01, 5.0000e+00,\n",
       "        1.0000e+00, 1.0000e+00, 0.0000e+00, 1.0000e+00, 2.0000e+00,\n",
       "        1.0000e+00, 7.0000e+00, 1.0000e+00, 2.3000e+01, 1.0000e+00,\n",
       "        0.0000e+00, 0.0000e+00, 0.0000e+00, 0.0000e+00, 1.0000e+00]),\n",
       " array([  1615.5,   6743.7,  11871.9,  17000.1,  22128.3,  27256.5,\n",
       "         32384.7,  37512.9,  42641.1,  47769.3,  52897.5,  58025.7,\n",
       "         63153.9,  68282.1,  73410.3,  78538.5,  83666.7,  88794.9,\n",
       "         93923.1,  99051.3, 104179.5, 109307.7, 114435.9, 119564.1,\n",
       "        124692.3, 129820.5, 134948.7, 140076.9, 145205.1, 150333.3,\n",
       "        155461.5, 160589.7, 165717.9, 170846.1, 175974.3, 181102.5,\n",
       "        186230.7, 191358.9, 196487.1, 201615.3, 206743.5, 211871.7,\n",
       "        216999.9, 222128.1, 227256.3, 232384.5, 237512.7, 242640.9,\n",
       "        247769.1, 252897.3, 258025.5]),\n",
       " <a list of 50 Patch objects>)"
      ]
     },
     "execution_count": 25,
     "metadata": {},
     "output_type": "execute_result"
    },
    {
     "data": {
      "image/png": "[encoded data removed]",
      "text/plain": [
       "<Figure size 432x288 with 3 Axes>"
      ]
     },
     "metadata": {
      "needs_background": "light"
     },
     "output_type": "display_data"
    }
   ],
   "source": [
    "print('Mean : ', app_train['AMT_CREDIT'].mean())\n",
    "print('Mean : ', app_train['AMT_CREDIT'].std())\n",
    "\n",
    "fig, axs = plt.subplots(1, 3, sharey=True, tight_layout=True)\n",
    "n_bins = 50\n",
    "axs[0].hist(app_train['AMT_CREDIT'], bins=n_bins)\n",
    "axs[1].hist(app_train['AMT_INCOME_TOTAL'], bins=n_bins, normed = 0)\n",
    "axs[2].hist(app_train['AMT_ANNUITY'], bins=n_bins)\n",
    "\n",
    "#plt.hist(app_train['AMT_CREDIT'], bins=n_bins, normed=0, facecolor=\"blue\", edgecolor=\"black\", alpha=0.7)"
   ]
  }
 ],
 "metadata": {
  "kernelspec": {
   "display_name": "Python 3",
   "language": "python",
   "name": "python3"
  },
  "language_info": {
   "codemirror_mode": {
    "name": "ipython",
    "version": 3
   },
   "file_extension": ".py",
   "mimetype": "text/x-python",
   "name": "python",
   "nbconvert_exporter": "python",
   "pygments_lexer": "ipython3",
   "version": "3.7.1"
  }
 },
 "nbformat": 4,
 "nbformat_minor": 2
}
