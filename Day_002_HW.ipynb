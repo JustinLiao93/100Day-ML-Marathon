{
 "cells": [
  {
   "cell_type": "markdown",
   "metadata": {},
   "source": [
    "## [作業目標]\n",
    "了解機器學習適合應用的領域與範疇。"
   ]
  },
  {
   "cell_type": "markdown",
   "metadata": {},
   "source": [
    "## [作業重點]\n",
    "透過瞭解機器學習的運作方式，找出非常適用機器學習應用的領域及其原因"
   ]
  },
  {
   "cell_type": "markdown",
   "metadata": {},
   "source": [
    "## 作業\n",
    "請找出一個你認為機器學習可以發光發熱的領域並闡述原因? "
   ]
  },
  {
   "cell_type": "markdown",
   "metadata": {},
   "source": [
    "我認為利用機器學習用來做銀行消費者信用風險評估非常適合。\n",
    "過去銀行在評估個人信用風險上，大多採用logistic regression，一方面是建模快速，另一方面則是理解直觀，容易解釋，但在現在許多機器學習模型的發展下，羅吉斯迴歸已經不再是可最精準評估客戶信用風險的方式，再加上現在銀行所擁有的資料也不再只有傳統的結構性資料，銀行透過異業合作或是自建系統等，除聯徵中心資料外，本身也累積了許多客戶的行為軌跡，像是網銀瀏覽紀錄、消費位置經緯度...等等，因此我認為羅吉斯在解釋上確實很方便，但其背後的限制也影響了整個信用風險評估的進展。\n",
    "\n",
    "銀行的資料有幾個特性，資料維度大、資料量豐富以及壞件比例偏低，而這跟機器學期所需要且可以解決的問題相契合。有了大量資料，在經過整理後，模型就可透過演算法找出當中的規則，壞件比例偏低的問題，也可透過under sampling 或 over sampling等方式來進行解決，大大地補足羅吉斯迴歸的不足，即便在採用複雜機器學習算法後，模型的可解釋力下降，比起透過迴歸係數值觀解釋，科學家們仍能透過模型產生的係數或權重來理解那些變數對於結果的影響較大，藉此做出解釋。因此我認為，將機器學習套用在銀行客戶的信用風險評估上是再適合不過的。"
   ]
  }
 ],
 "metadata": {
  "kernelspec": {
   "display_name": "Python 3",
   "language": "python",
   "name": "python3"
  },
  "language_info": {
   "codemirror_mode": {
    "name": "ipython",
    "version": 3
   },
   "file_extension": ".py",
   "mimetype": "text/x-python",
   "name": "python",
   "nbconvert_exporter": "python",
   "pygments_lexer": "ipython3",
   "version": "3.7.1"
  }
 },
 "nbformat": 4,
 "nbformat_minor": 2
}
