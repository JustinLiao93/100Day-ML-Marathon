{
 "cells": [
  {
   "cell_type": "markdown",
   "metadata": {},
   "source": [
    "## 練習時間"
   ]
  },
  {
   "cell_type": "markdown",
   "metadata": {},
   "source": [
    "請觀看李宏毅教授以神奇寶貝進化 CP 值預測的範例，解說何謂機器學習與過擬合。並回答以下問題"
   ]
  },
  {
   "cell_type": "markdown",
   "metadata": {},
   "source": [
    "[youtube](https://www.youtube.com/watch?v=fegAeph9UaA)"
   ]
  },
  {
   "cell_type": "markdown",
   "metadata": {},
   "source": [
    "### 1. 模型的泛化能力 (generalization) 是指什麼？ \n",
    "Generalization指得是一個訓練好的模型，套用在訓練外資料(未見過的樣本)時，模型表現能力如何。\n",
    "泛化能力越好的模型，在訓練外樣本的表現會與訓練時的表現差距較小，若以MSE當作模型效度指標，即表示兩者MSE差距小\n",
    "泛化能力越差的模型，兩者差距會較大\n",
    "### 2. 分類問題與回歸問題分別可用的目標函數有哪些？\n",
    "分類問題：\n",
    "回歸問題：均方誤差(Mean square error，MSE)、平均絕對值誤差(Mean absolute error，MAE)和Huber損失——平滑平均絕對誤差\n",
    "分類問題：交叉熵(cross-entropy)、0-1損失函數、Cross Entropy Error Function+Softmax function"
   ]
  }
 ],
 "metadata": {
  "kernelspec": {
   "display_name": "Python 3",
   "language": "python",
   "name": "python3"
  },
  "language_info": {
   "codemirror_mode": {
    "name": "ipython",
    "version": 3
   },
   "file_extension": ".py",
   "mimetype": "text/x-python",
   "name": "python",
   "nbconvert_exporter": "python",
   "pygments_lexer": "ipython3",
   "version": "3.7.1"
  }
 },
 "nbformat": 4,
 "nbformat_minor": 2
}
