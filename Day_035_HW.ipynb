{
 "cells": [
  {
   "cell_type": "markdown",
   "metadata": {},
   "source": [
    "## 練習時間\n",
    "相信大家對回歸問題及分類問題都有初步的了解。今天的作業希望大家搜尋有關 multi-label 的案例問題。下圖是電影 \"奇異博士\" 的分類。可以看到同時有 \"Action\", \"Adventure\", \"Fantasy\" 的類別存在，代表這是個多標籤的問題。 "
   ]
  },
  {
   "cell_type": "markdown",
   "metadata": {},
   "source": [
    "![image](https://cdn-images-1.medium.com/max/1000/1*r0gYXMSQf5VhdMyl2bRDyg.png)"
   ]
  },
  {
   "cell_type": "markdown",
   "metadata": {},
   "source": [
    "## 請搜尋目標為多標籤問題 (Multi-label) 的機器學習案例，了解其資料來源、目標以及評估指標為何\n",
    "## Hint: 服飾\n",
    "\n",
    "本題提示為服飾，在服飾這個類別中，以男生夾克為例，可能同時標有男性、冬天、長袖、外套、特價等標籤，而面對許多這樣多標籤的照片，代表我們面對的是一個多標籤的問題。資料來源可能是某間連鎖線上電子商務服飾店的資料庫原始資料，該服飾店的目標可能是希望透過這些既有歷史資料，可以協助他們建立推薦系統，來推薦顧客可能會喜歡的東西，因此需要透過顧客購買紀錄，來預測客戶可能會喜歡的東西有哪些，但在建議推薦系統前，每一件商品都需要貼上對應的標籤，這時候就是多標籤問題模型派上用場的時候。面對多標籤問題，可將其轉換為多個二元分類問題，個別去評估每一類的分類結果，評估指標則為accuracy。"
   ]
  }
 ],
 "metadata": {
  "kernelspec": {
   "display_name": "Python 3",
   "language": "python",
   "name": "python3"
  },
  "language_info": {
   "codemirror_mode": {
    "name": "ipython",
    "version": 3
   },
   "file_extension": ".py",
   "mimetype": "text/x-python",
   "name": "python",
   "nbconvert_exporter": "python",
   "pygments_lexer": "ipython3",
   "version": "3.7.1"
  }
 },
 "nbformat": 4,
 "nbformat_minor": 2
}
